{
 "cells": [
  {
   "cell_type": "markdown",
   "id": "0491c756",
   "metadata": {},
   "source": [
    "# Deliverable Five: Self-Reflection\n",
    "\n",
    "The objective of deliverable five is to critically review how abstract accounting concepts learned in the textbook connect to concrete real-world experiences. Students construct a personal story about how their project experience helped them bridge their understanding about abstract financial information with real concrete experiences.  \n",
    "\n",
    "Deliverable Five Learning Outcomes: LO 2, LO 6, LO 7\n",
    "\n",
    "To achieve these learning objectives, deliverable five is subdivided into two tasks.\n",
    "\n",
    "Deliverable Five Tasks:\n",
    "\n",
    "1.\tCraft a personal narrative on their journey of understanding through the SBUX Project, and how it helped bridge their understanding from accounting theory to practice. \n",
    "2.\tSubmit individual answers as Word documents to the learning management system.\n",
    "\n",
    "Important: become familiar with the grading rubric! Deliverable Five Grading Rubrics\n",
    "\n",
    "The next section elaborates on the tasks."
   ]
  }
 ],
 "metadata": {
  "jupytext": {
   "formats": "md:myst",
   "text_representation": {
    "extension": ".md",
    "format_name": "myst"
   }
  },
  "kernelspec": {
   "display_name": "Python 3",
   "language": "python",
   "name": "python3"
  },
  "language_info": {
   "codemirror_mode": {
    "name": "ipython",
    "version": 3
   },
   "file_extension": ".py",
   "mimetype": "text/x-python",
   "name": "python",
   "nbconvert_exporter": "python",
   "pygments_lexer": "ipython3",
   "version": "3.11.7"
  },
  "source_map": [
   11
  ]
 },
 "nbformat": 4,
 "nbformat_minor": 5
}