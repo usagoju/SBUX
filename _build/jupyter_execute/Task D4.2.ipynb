{
 "cells": [
  {
   "cell_type": "markdown",
   "id": "55226eb6",
   "metadata": {},
   "source": [
    "# Task D4.2: The group leader uploads the PowerPoint document via the course learning management system.\n",
    "\n",
    "The group leader for deliverable four is responsible for making sure that the PowerPoint presentation is submitted on behalf of the group. This submission is required to be a group submission. The group cannot be divided and attempt to submit multiple presentations. Only PowerPoint files are accepted. \n",
    "\n",
    "The late policy for deliverable four is the same as for prior deliverables. It is important that students provide their presentations in a timely manner, as it is a near-end-of-semester submission."
   ]
  }
 ],
 "metadata": {
  "jupytext": {
   "formats": "md:myst",
   "text_representation": {
    "extension": ".md",
    "format_name": "myst"
   }
  },
  "kernelspec": {
   "display_name": "Python 3",
   "language": "python",
   "name": "python3"
  },
  "language_info": {
   "codemirror_mode": {
    "name": "ipython",
    "version": 3
   },
   "file_extension": ".py",
   "mimetype": "text/x-python",
   "name": "python",
   "nbconvert_exporter": "python",
   "pygments_lexer": "ipython3",
   "version": "3.11.7"
  },
  "source_map": [
   11
  ]
 },
 "nbformat": 4,
 "nbformat_minor": 5
}