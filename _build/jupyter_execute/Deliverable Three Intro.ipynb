{
 "cells": [
  {
   "cell_type": "markdown",
   "id": "02fd7fc2",
   "metadata": {},
   "source": [
    "# Deliverable Three: Connecting Theory to Practice – Store-Level Risk Analysis\n",
    "\n",
    "Deliverable three continues the process of building on the information learned in the textbook, the study of financial information, and risk-focused 10-K information to bridge abstract theoretical accounting to real-life concrete experiences. This is accomplished by conducting what we refer to as a store-level risk analysis. In this deliverable of the SBUX Project, heightened attention is given to real concrete experiences as students visit Starbucks stores in their local area. The third deliverable has the highest weight for the project. \n",
    "\n",
    "Deliverable Three Learning Outcomes: LO 1, LO 2, LO 3, LO 4, LO 5\n",
    "\n",
    "To achieve these learning objectives, deliverable three is subdivided into three tasks.\n",
    "\n",
    "Deliverable Three Tasks:\n",
    "\n",
    "1.\tContinue to collaborate and select a new group leader. Then, select at least two different Starbucks stores, visit each for at least one hour, and identify and evaluate one store-level risk factor of interest that could come true. If visiting physical stores is not viable, an alternative option is presented.\n",
    "2.\tRespond to four short essay questions using observations from deliverable three and analyses from deliverables one and two. \n",
    "3.\tSubmit their individual answers as Word documents to the learning management system.\n",
    "\n",
    "The learning outcomes aim to continue the collaborative working environment and analyze complex new information. Students aim to demonstrate a comprehensive understanding of operations, assess how specific store-level risks impact financial statements, and suggest management actions to mitigate these risks.\n",
    "A key part of this deliverable is understanding how risks found in stores could adversely affect financial statement outcomes. The approach of visiting stores and analyzing risks inside them helps students make the connection between the accounting theory read in the textbook and what happens in real life in a more concrete, practical way. \n",
    "\n",
    "Important: become familiar with the grading rubric! Deliverable Three Grading Rubrics\n",
    "\n",
    "The next section elaborates on the tasks."
   ]
  }
 ],
 "metadata": {
  "jupytext": {
   "formats": "md:myst",
   "text_representation": {
    "extension": ".md",
    "format_name": "myst"
   }
  },
  "kernelspec": {
   "display_name": "Python 3",
   "language": "python",
   "name": "python3"
  },
  "language_info": {
   "codemirror_mode": {
    "name": "ipython",
    "version": 3
   },
   "file_extension": ".py",
   "mimetype": "text/x-python",
   "name": "python",
   "nbconvert_exporter": "python",
   "pygments_lexer": "ipython3",
   "version": "3.11.7"
  },
  "source_map": [
   11
  ]
 },
 "nbformat": 4,
 "nbformat_minor": 5
}