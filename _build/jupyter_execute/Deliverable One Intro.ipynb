{
 "cells": [
  {
   "cell_type": "markdown",
   "id": "095ee45e",
   "metadata": {},
   "source": [
    "# Deliverable One: Financial Statement Analysis\n",
    "\n",
    "Deliverable One Learning Outcomes: LO 1, LO 2.\n",
    "\n",
    "To achieve these learning outcomes, deliverable one is subdivided into five tasks.\n",
    "\n",
    "Deliverable One Tasks:\n",
    "\n",
    "1. Collaborate with other students in groups. \n",
    "2. Use Excel to analyze financial statement information. \n",
    "3. A limited financial statement analysis employing horizontal, vertical, and ratio analysis. \n",
    "4. Create charts and trend analysis of the horizontal, vertical, and ratio analysis calculations.\n",
    "5. Individually upload the Excel document via the institution’s course learning management system.\n",
    "\n",
    "These learning outcomes allow students to become familiar with collaborating with a newly formed group and analyze complex new information. To work toward accounting proficiency, students use their assigned textbook and other course materials and become very familiar with the financial information and business operations of Starbucks. The best information about Starbucks normally comes from the public documents that are filed with the SEC, specifically, the 10-Ks. Deliverable one tasks are scaffolded sequentially to allow students to learn step by step some of the basics of financial statement analysis. Tasks must be performed in the sequence shown in this guide.\n",
    "\n",
    "Important: become familiar with the grading rubric! Deliverable One Grading Rubrics\n",
    "\n",
    "The next section elaborates on the tasks."
   ]
  }
 ],
 "metadata": {
  "jupytext": {
   "formats": "md:myst",
   "text_representation": {
    "extension": ".md",
    "format_name": "myst"
   }
  },
  "kernelspec": {
   "display_name": "Python 3",
   "language": "python",
   "name": "python3"
  },
  "language_info": {
   "codemirror_mode": {
    "name": "ipython",
    "version": 3
   },
   "file_extension": ".py",
   "mimetype": "text/x-python",
   "name": "python",
   "nbconvert_exporter": "python",
   "pygments_lexer": "ipython3",
   "version": "3.11.7"
  },
  "source_map": [
   11
  ]
 },
 "nbformat": 4,
 "nbformat_minor": 5
}