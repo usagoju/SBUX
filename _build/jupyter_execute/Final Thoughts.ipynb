{
 "cells": [
  {
   "cell_type": "markdown",
   "id": "bd50557a",
   "metadata": {},
   "source": [
    "# Final Thoughts\n",
    "\n",
    "In addition to the instructions outlined in the Step-by-Step Guide, to enhance your understanding of the business entity and its environment, students should use all resources available to them, including, but not limited to, the library (specifically the business librarian), Internet, professional opinions and interpretations, company published information, brokerage house information, etc. Students should think about creative ways to extract and understand information. This instruction guide will direct you, but it will not hold your hand during the process. It is your project to learn from."
   ]
  }
 ],
 "metadata": {
  "jupytext": {
   "formats": "md:myst",
   "text_representation": {
    "extension": ".md",
    "format_name": "myst"
   }
  },
  "kernelspec": {
   "display_name": "Python 3",
   "language": "python",
   "name": "python3"
  },
  "language_info": {
   "codemirror_mode": {
    "name": "ipython",
    "version": 3
   },
   "file_extension": ".py",
   "mimetype": "text/x-python",
   "name": "python",
   "nbconvert_exporter": "python",
   "pygments_lexer": "ipython3",
   "version": "3.11.7"
  },
  "source_map": [
   11
  ]
 },
 "nbformat": 4,
 "nbformat_minor": 5
}