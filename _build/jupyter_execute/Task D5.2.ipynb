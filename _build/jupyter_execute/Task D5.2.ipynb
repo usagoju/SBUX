{
 "cells": [
  {
   "cell_type": "markdown",
   "id": "58d27c78",
   "metadata": {},
   "source": [
    "# Task D5.2\n",
    "\n",
    "## Submit individual answers as Word documents to the learning management system.\n",
    "\n",
    "The upload instructions for deliverable five are the same as those for deliverables two and three."
   ]
  }
 ],
 "metadata": {
  "jupytext": {
   "formats": "md:myst",
   "text_representation": {
    "extension": ".md",
    "format_name": "myst"
   }
  },
  "kernelspec": {
   "display_name": "Python 3",
   "language": "python",
   "name": "python3"
  },
  "language_info": {
   "codemirror_mode": {
    "name": "ipython",
    "version": 3
   },
   "file_extension": ".py",
   "mimetype": "text/x-python",
   "name": "python",
   "nbconvert_exporter": "python",
   "pygments_lexer": "ipython3",
   "version": "3.11.7"
  },
  "source_map": [
   11
  ]
 },
 "nbformat": 4,
 "nbformat_minor": 5
}