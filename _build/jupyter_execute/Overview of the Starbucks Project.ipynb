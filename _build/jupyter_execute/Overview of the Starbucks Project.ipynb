{
 "cells": [
  {
   "cell_type": "markdown",
   "id": "0a3584b2",
   "metadata": {},
   "source": [
    "# Overview of the Term Project\n",
    "\n",
    "The overarching goal of the SBUX Project is to deliver an open-access, venue-based experiential learning environment that is flexible enough to meet program and course learning outcomes (PLOs and CLOs) in accounting curricula. The project attempts to deepen the understanding of accounting by connecting accounting theory to practice the basic skill sets of collaborative group work, leadership, and communication skills. To achieve PLOs and CLOs, the project has seven project learning outcomes, as follows: \n",
    "Project Learning Outcomes (LOs):\n",
    "\n",
    "LO 1:\tCreate and contribute individualized work within a collaborative group setting, fostering teamwork, collective problem-solving, and personal accountability.\n",
    "\n",
    "LO 2:\tUsing common technological tools, organize, structure, and present complex financial data for thorough analysis, demonstrating proficiency in financial statement preparation under GAAP.\n",
    "\n",
    "LO 3:.\tDemonstrate a comprehensive understanding of company operations, clarifying accounting contents and financial statement analysis.\n",
    "\n",
    "LO 4:.\tExplain how different types of risk can adversely affect financial statements, proposing strategies for management to mitigate these risks, thereby strengthening financial statements.\n",
    "\n",
    "LO 5:.\tSynthesize connections between the first three deliverables, showing a cohesive understanding of accounting, financial statement analysis, and financial statement preparation under GAAP.\n",
    "\n",
    "LO 6:.\tCritically reflect on how abstract accounting concepts learned in the textbook relate to real-world experiences, thus connecting theory to practice to understand financial principles.\n",
    "\n",
    "LO 7:.\tRecognize the project's innovative value and motivational aspects, understanding its contribution to increased effort and the belief that the time devoted to the project is worthwhile. \n",
    "\n",
    "This semester we will be analyzing the Starbucks Corporation (herein known as the SBUX Project). Most students probably have been to a Starbucks and are familiar with its various aspects, from practically living on their coffee or just passing by a store. Whatever a student’s position toward Starbucks, almost everyone is cognizant that the business exists. \n",
    "\n",
    "To achieve the project learning outcomes, the term project has five deliverables that are due at various points during the semester. Each deliverable grade is weighted based on the level of work involved. You must follow the deliverables sequentially to receive a grade for the term project. If you miss a deliverable, no credit will be given for the term project, which will make it difficult to pass the class.\n",
    "Grading rubrics are provided in Appendix A of this document so students can see the weight of each deliverable and how they are to be scored. Students should become familiar with the grading rubrics as early as possible. If students have any questions, they are to email their instructor and explain the issue as succinctly as possible. All grading will appear in the Course Learning Management System.\n",
    "\n",
    "Early in the semester, all students in the class will be randomly assigned into groups of approximately three to four students. Deliverables one, two, three and five will be graded on an individual basis, and the fourth deliverable will be graded on a group basis. Although the first three deliverables will be graded individually, students will need to collaborate in their assigned group to work through the project. The rationale for grading in this manner is to simulate a real working environment. In real workplace settings, performance evaluations are often designed to evaluate individuals on their ability to work within a group. At times, a whole group may also be evaluated.  Hence, this project takes place in a collaborative work setting with randomized teammates, with components of individually and group graded deliverables.\n",
    "\n",
    "The main benefits of assigning students into groups early in the semester is that it creates opportunities to allow for free collaboration throughout the semester, with ample time to get to know teammates well, including understanding of each other’s schedules, workloads, skill sets, etc. Since this project can be intense and it is interactive, students should collaborate early and often. Students are not to work on this project alone. Doing so defeats its purpose. To ensure that all students are collaborating within their assigned groups, we employ the concept of rotational leadership for each deliverable. This concept requires each student to take on a leadership role for each of the first four deliverables. In the leadership position, students facilitate communications, an exchange of ideas among group members, and make sure that all group members receive a review of their work before submission to the instructor.  \n",
    "\n",
    "To be successful with this term project, students integrate accounting textbook learning with the business operations of Starbucks, which is disclosed in the Starbucks website and filed with the Security and Exchange Commission in the EDGAR database website. \n",
    "\n",
    "Before students start the first deliverable of the project, they need to become familiar with this document. At the discretion of the instructor (at the time the course opens or soon after the course begins), students will be able to see their group assignment. When group assignments are available, students communicate with other members of the group, exchanging contact information, elect a leader for the first deliverable and conduct a meeting, via whatever method the group choses (a conference call, Zoom, WhatsApp, etc.). Some form of group communication has to be established whereby all group members can get acquainted with each other. This is very important.     \n",
    "\n",
    "In the following page, a process flowchart is presented which provides summary detail the deliverable sequence, the items to be submitted and how they will be graded. The rest of this document details each deliverable, followed by Appendix A, Grading Rubrics, and Appendix B, Frequently Asked Questions (FAQs)."
   ]
  }
 ],
 "metadata": {
  "jupytext": {
   "formats": "md:myst",
   "text_representation": {
    "extension": ".md",
    "format_name": "myst"
   }
  },
  "kernelspec": {
   "display_name": "Python 3",
   "language": "python",
   "name": "python3"
  },
  "language_info": {
   "codemirror_mode": {
    "name": "ipython",
    "version": 3
   },
   "file_extension": ".py",
   "mimetype": "text/x-python",
   "name": "python",
   "nbconvert_exporter": "python",
   "pygments_lexer": "ipython3",
   "version": "3.11.7"
  },
  "source_map": [
   11
  ]
 },
 "nbformat": 4,
 "nbformat_minor": 5
}