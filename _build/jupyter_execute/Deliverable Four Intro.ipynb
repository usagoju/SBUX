{
 "cells": [
  {
   "cell_type": "markdown",
   "id": "bf32ce86",
   "metadata": {},
   "source": [
    "# Deliverable Four: Connecting Theory to Practice – Communicating Results\n",
    "\n",
    "Deliverable four is a summary presentation of deliverables one, two, and three. Students are to construct a story that starts with abstract financial information and evolves to real concrete experiences by synthesizing connections between the first three deliverables. The presentation should focus on how management portrays information affecting financial information and how risks can affect that information. During the semester, students are encouraged to draft slides of deliverables one, two, and three outcomes with members of their group. Drafting slides fosters a better collaborative effort and helps those students who may be prone to contributing less than their full potential. This deliverable is group graded.\n",
    "\n",
    "Deliverable Four Learning Outcomes: LO 1, LO 2, LO 3, LO 4, LO 5\n",
    "\n",
    "To achieve these learning objectives, deliverable four is subdivided into two tasks.\n",
    "\n",
    "Deliverable Four Tasks:\n",
    "\n",
    "1.\tContinue to collaborate and select a new group leader. As a group, students showcase their unique perspectives by working together to agree on presentation content, draft a storyboard, rehearse, and present it.\n",
    "2.\tThe group leader uploads the PowerPoint document via the course learning management system.\n",
    "\n",
    "Important: become familiar with the grading rubric! Deliverable Four Grading Rubrics\n",
    "\n",
    "The next section elaborates on the tasks."
   ]
  }
 ],
 "metadata": {
  "jupytext": {
   "formats": "md:myst",
   "text_representation": {
    "extension": ".md",
    "format_name": "myst"
   }
  },
  "kernelspec": {
   "display_name": "Python 3",
   "language": "python",
   "name": "python3"
  },
  "language_info": {
   "codemirror_mode": {
    "name": "ipython",
    "version": 3
   },
   "file_extension": ".py",
   "mimetype": "text/x-python",
   "name": "python",
   "nbconvert_exporter": "python",
   "pygments_lexer": "ipython3",
   "version": "3.11.7"
  },
  "source_map": [
   11
  ]
 },
 "nbformat": 4,
 "nbformat_minor": 5
}