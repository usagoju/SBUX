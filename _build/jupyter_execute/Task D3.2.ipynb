{
 "cells": [
  {
   "cell_type": "markdown",
   "id": "0b5d6add",
   "metadata": {},
   "source": [
    "# Task D3.2\n",
    "\n",
    "## Respond to four short essay questions (and their subparts) using observations from deliverable three and analyses from deliverables one and two.\n",
    "\n",
    "### Short Essay Questions\n",
    "\n",
    "**Short Essay Question D3.2.a: Evaluate one risk factor disclosed in the 10-K (student’s choice) and demonstrate how it applies to the store level by conducting a “What-If Analysis”. Use the last year of available financial data.**\n",
    "\n",
    ":::{admonition} Guidance\n",
    ":class: tip\n",
    "\n",
    "Students will choose a disclosed risk factor in the 10-K and assume it comes true. It does not have to be the same risk factor chosen in deliverable two. Evaluate how it will affect the company at the store level. Using last year’s available financial data, conduct a “What-If Analysis” and explain the results. Since students are not expected to have precise, proprietary knowledge of revenues or costs, use hypothetical figures. What-if analysis is a technological tool found on the Data tab in an Excel spreadsheet. Many YouTube videos demonstrate how to use this tool.\n",
    ":::\n",
    "\n",
    "**Short Essay Question D3.2.b.i: What inventory items do you believe have the highest and lowest gross profit margin? Provide evidence to support your assertion rather than just a “gut” feeling or a simple guess.**\n",
    "\n",
    "**Short Essay Question D3.2.b.ii: If a person steals one of the high and one of the low gross profit margin inventory items, how many more of those items does Starbucks have to sell to make up the cost of each of the stolen items?**\n",
    "\n",
    ":::{admonition} Guidance\n",
    ":class: tip\n",
    "\n",
    "For example, assume you identify a certain drink and believe it is the highest (or lowest) gross profit margin item. If one bottle is stolen, which normally costs $1.59 per bottle and sells for $1.89, then 5.3 bottles must be sold to make up the cost of one bottle ($1.89 - $1.59 = $0.30).  (Divide the cost into the profit margin ($1.59/$0.30 = 5.3 bottles)). \n",
    ":::\n",
    "\n",
    "**Short Essay Question D3.2.b.iii: Using information developed in question D3.3.2.b.ii, how much would that affect the Cost of Sales, and how many more of those items would Starbucks have to sell to make up the loss?**\n",
    "\n",
    ":::{admonition} Guidance\n",
    ":class: tip\n",
    "\n",
    "To see a practical effect on Starbucks’ financial statements, imagine one of the lowest profit margin refrigerated items is stolen once per day in every Starbucks store worldwide for an entire year. You need to know approximately how many Starbucks-owned company stores there are worldwide. If students do not know how many stores or the actual costs, estimate them to the best of their ability.\n",
    ":::\n",
    "\n",
    "**Short Essay Question D3.2.b.iv: In less than 200 words, explain why LIFO, FIFO or average inventory systems are referred to as cost flow systems.**\n",
    "\n",
    ":::{admonition} Guidance\n",
    ":class: tip\n",
    "\n",
    "The choice of LIFO, FIFO, or average inventory cost flow systems could make a difference in the financial statements. Many students mistakenly believe that if a company sells perishable items, it must choose FIFO because it makes sense that the first items to come into the store must be the first items to be sold, which describes the physical flow of goods. Theoretically, the cost flow of goods could be the same as the physical flow, but more often than not, they are not the same.\n",
    ":::\n",
    "\n",
    "**Short Essay Questions D3.2.c.i: How many years do you estimate the fixed asset will be functional and useful to help Starbucks produce revenue over its estimated useful life? When it is no longer useful, how much do you think Starbucks can sell it for (that is, salvage value)?**\n",
    "\n",
    ":::{admonition} Guidance\n",
    ":class: tip\n",
    "\n",
    "Starbucks stores have various machines to make drinks or cook food. Identify one of those pieces of equipment, conduct internet research to determine the make/model machines they use, and estimate a replacement cost if the equipment were to be destroyed today, assuming it is January 1st (cost). If students cannot determine the replacement cost, use a close substitute. With that information, answer the following questions.\n",
    ":::\n",
    "\n",
    "**Short Essay Question D3.2.c.ii: Using the fixed asset identified in question D3.2.c.i, calculate the item’s depreciation expense for its first year. Compare the difference using straight-line depreciation and double-declining balance depreciation methods. Imagine that item had to be replaced in all Starbucks stores. Extrapolate your results across all Starbucks stores and determine the effect on the balance sheet and income statements. Show all calculations.**\t\n",
    "\n",
    ":::{admonition} Guidance\n",
    ":class: tip\n",
    "\n",
    "Create an Excel spreadsheet and make two separate depreciation schedules.  \n",
    ":::\n",
    "\n",
    "**Short Essay Question D3.2.d: Recommend a course of action to help Starbucks mitigate risks to increase revenue, control its expenses, or make its assets more efficient. Students need to show how that beneficial change would affect at least one ratio in the next year that financial statements would be produced.**\n",
    "\n",
    ":::{admonition} Guidance\n",
    ":class: tip\n",
    "\n",
    "At this point, students have read, analyzed, and are somewhat familiar with Starbucks's company and store-level operations. Students need to show how that beneficial change would affect at least one ratio in the next year that financial statements will be produced.\n",
    ":::"
   ]
  }
 ],
 "metadata": {
  "jupytext": {
   "formats": "md:myst",
   "text_representation": {
    "extension": ".md",
    "format_name": "myst"
   }
  },
  "kernelspec": {
   "display_name": "Python 3",
   "language": "python",
   "name": "python3"
  },
  "language_info": {
   "codemirror_mode": {
    "name": "ipython",
    "version": 3
   },
   "file_extension": ".py",
   "mimetype": "text/x-python",
   "name": "python",
   "nbconvert_exporter": "python",
   "pygments_lexer": "ipython3",
   "version": "3.11.7"
  },
  "source_map": [
   11
  ]
 },
 "nbformat": 4,
 "nbformat_minor": 5
}