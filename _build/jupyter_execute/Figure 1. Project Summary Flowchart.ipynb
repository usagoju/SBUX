{
 "cells": [
  {
   "cell_type": "markdown",
   "id": "c2cd6296",
   "metadata": {},
   "source": [
    "# Figure 1. Project Summary Flowchart\n",
    "\n",
    "```{image} images/Project_Summary_Flowchart.jpg\n",
    ":alt: Example Image\n",
    ":class: image-class\n",
    ":width: 800px\n",
    ":align: center"
   ]
  }
 ],
 "metadata": {
  "jupytext": {
   "formats": "md:myst",
   "text_representation": {
    "extension": ".md",
    "format_name": "myst"
   }
  },
  "kernelspec": {
   "display_name": "Python 3",
   "language": "python",
   "name": "python3"
  },
  "language_info": {
   "codemirror_mode": {
    "name": "ipython",
    "version": 3
   },
   "file_extension": ".py",
   "mimetype": "text/x-python",
   "name": "python",
   "nbconvert_exporter": "python",
   "pygments_lexer": "ipython3",
   "version": "3.11.7"
  },
  "source_map": [
   11
  ]
 },
 "nbformat": 4,
 "nbformat_minor": 5
}