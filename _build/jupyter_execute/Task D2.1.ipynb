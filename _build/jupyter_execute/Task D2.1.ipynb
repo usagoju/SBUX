{
 "cells": [
  {
   "cell_type": "markdown",
   "id": "d69af5f2",
   "metadata": {},
   "source": [
    "# Task D2.1\n",
    "\n",
    "## Continue to Collaborate with Group Members\n",
    "\n",
    "Students will continue collaborating within their assigned groups to complete this deliverable, but the work product will be graded individually.  Students elect a new group leader to centralize group communications and peer reviews. Students should reassess if their communication system is working adequately and consider a change, if needed. The assigned leader in each group is required to submit a weekly one-paragraph summary of the communication setup and group interactions and raise any concerns students may have."
   ]
  }
 ],
 "metadata": {
  "jupytext": {
   "formats": "md:myst",
   "text_representation": {
    "extension": ".md",
    "format_name": "myst"
   }
  },
  "kernelspec": {
   "display_name": "Python 3",
   "language": "python",
   "name": "python3"
  },
  "language_info": {
   "codemirror_mode": {
    "name": "ipython",
    "version": 3
   },
   "file_extension": ".py",
   "mimetype": "text/x-python",
   "name": "python",
   "nbconvert_exporter": "python",
   "pygments_lexer": "ipython3",
   "version": "3.11.7"
  },
  "source_map": [
   11
  ]
 },
 "nbformat": 4,
 "nbformat_minor": 5
}