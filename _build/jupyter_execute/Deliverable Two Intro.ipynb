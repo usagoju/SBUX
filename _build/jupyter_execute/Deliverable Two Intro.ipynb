{
 "cells": [
  {
   "cell_type": "markdown",
   "id": "12477a7f",
   "metadata": {},
   "source": [
    "# Deliverable Two: Connecting Theory to Practice – Company-Level Risk Analysis\n",
    "\n",
    "Deliverable two connects theoretical accounting knowledge to real-life experiences, aiming to demonstrate an understanding of company operations and the impact of various risks on financial statements. It consists of three sequential tasks. Students collaborate in groups for this deliverable but are graded individually. A new leader centralizes communications and peer reviews.\n",
    "Deliverable Two Learning Outcomes: LO 1, LO 2, LO 3, LO 4\n",
    "\n",
    "To achieve these learning objectives, deliverable two is subdivided into three tasks.\n",
    "\n",
    "Deliverable Two Tasks:\n",
    "\n",
    "1.\tContinue to collaborate, select a new group leader, review the Starbucks 10-K, and evaluate a risk factor that could come true. \n",
    "2.\tRead selected parts of the Starbucks 10-K, identify and evaluate a risk factor of interest that could come true, then answer three related short essay questions. \n",
    "3.\tSubmit their individual answers as Word documents to the learning management system.\n",
    "\n",
    "The learning outcomes aim to continue the collaborative working environment and analyze complex new information. Students read other parts of Form 10-K and broaden their understanding of how accounting information is presented for public companies. A key part of this deliverable is understanding how risks could adversely affect financial statement outcomes. The approach to reading and analyzing risks helps students make the connection between accounting theory read in the textbook and what happens in real life in a more concrete, practical way.  \n",
    "\n",
    "Important: become familiar with the grading rubric! Deliverable Two Grading Rubrics\n",
    "\n",
    "The next section elaborates on the tasks."
   ]
  }
 ],
 "metadata": {
  "jupytext": {
   "formats": "md:myst",
   "text_representation": {
    "extension": ".md",
    "format_name": "myst"
   }
  },
  "kernelspec": {
   "display_name": "Python 3",
   "language": "python",
   "name": "python3"
  },
  "language_info": {
   "codemirror_mode": {
    "name": "ipython",
    "version": 3
   },
   "file_extension": ".py",
   "mimetype": "text/x-python",
   "name": "python",
   "nbconvert_exporter": "python",
   "pygments_lexer": "ipython3",
   "version": "3.11.7"
  },
  "source_map": [
   11
  ]
 },
 "nbformat": 4,
 "nbformat_minor": 5
}