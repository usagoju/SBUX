{
 "cells": [
  {
   "cell_type": "markdown",
   "id": "ea112b37",
   "metadata": {},
   "source": [
    "# Task D5.1\n",
    "\n",
    "## Create an individual reflection about the SBUX Project.\n",
    "\n",
    "Deliverable five is solely an individual effort and is not a collaborative effort. No peer review by other group members is required. Students write a reflection that critically addresses how the SBUX Project facilitated the connection of abstract accounting concepts learned in the textbook to real-world, concrete experiences. Students discuss their perception of how abstract financial information became less abstract and more concrete as the project evolved. Students can do this by critically discussing how their ability to use accounting theory helps them make better accounting business decisions in practice, sharing specific instances whereby they did not understand an accounting concept at the beginning of the project but how it later made more sense. Students should also critically share how collaboration helped them gain an understanding of the term project work.\n",
    "  \n",
    "Some students may experience writer’s block. Below are some sample questions that students can integrate into their discussion. We encourage instructors to stress to students that their discussion should be heartfelt and in their own words.  \n",
    "\n",
    "1. Describe how the project learning outcomes met your expectations.\n",
    "2. Compared to the beginning of the project, what surprised you by the end of the term project?\n",
    "3. How did the risk assessments enhance your understanding of accounting?\n",
    "4. How did the store visits help you understand accounting?\n",
    "5. How did this term project enhance your ability to connect accounting theory to practical applications?\n",
    "6. If you have taken prior accounting courses, how would this project have helped you better prepare for this and future accounting courses?  \n",
    "7. What would you say if you could explain to other students why they should engage in a project like the Starbucks project to learn accounting?"
   ]
  }
 ],
 "metadata": {
  "jupytext": {
   "formats": "md:myst",
   "text_representation": {
    "extension": ".md",
    "format_name": "myst"
   }
  },
  "kernelspec": {
   "display_name": "Python 3",
   "language": "python",
   "name": "python3"
  },
  "language_info": {
   "codemirror_mode": {
    "name": "ipython",
    "version": 3
   },
   "file_extension": ".py",
   "mimetype": "text/x-python",
   "name": "python",
   "nbconvert_exporter": "python",
   "pygments_lexer": "ipython3",
   "version": "3.11.7"
  },
  "source_map": [
   11
  ]
 },
 "nbformat": 4,
 "nbformat_minor": 5
}