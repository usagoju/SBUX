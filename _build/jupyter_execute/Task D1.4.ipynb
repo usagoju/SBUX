{
 "cells": [
  {
   "cell_type": "markdown",
   "id": "970813d6",
   "metadata": {},
   "source": [
    "# Task D1.4 \n",
    "\n",
    "## Create charts and trend analysis of the horizontal, vertical and ratio analysis calculations.\n",
    "\n",
    "Students are required to chart the results of their vertical, horizontal, and financial ratios. To create as few charts as possible, while still retaining the ability to analyze them, this exercise is simplified. Charting every line item in the income statement, balance sheet and cash flow statement in separate charts is a lot of unnecessary work. The volume of charts that students would be producing would make it very difficult to analyze data.  \n",
    "\n",
    "For horizontal analyses, students will create a two-dimensional line chart at least over two years, shown in Figure 4, Panels A and B below. For students who wish to use data from more than two years, longer trends will be more apparent, as seen on the chart on the right, Figure 4, Panel B. Using 2016-2018 Starbucks data for demonstration, the following charts are samples of visual representations of horizontal analyses submitted by former students. Note that the presentation of the charts on the x-axis is chronological from the earliest to the latest years, which is in reverse order from the presentation of the financial statements filed with the SEC.\n",
    "\n",
    "```{figure} images/Balance_Sheet_Changes.jpg\n",
    ":scale: 150 %\n",
    ":alt: Balance Sheet Changes\n",
    "\n",
    "**Figure 4, Panel A: Sample Horizontal Analyses Charts.** \\\n",
    "**Balance Sheet Changes**\n",
    "```\n",
    "\n",
    "```{figure} images/Cash_Flow_Horizontal_Analysis.jpg\n",
    ":scale: 150 %\n",
    ":alt: Cash Flow Horizontal Analysis\n",
    "\n",
    "**Figure 4, Panel B: Sample Horizontal Analyses Charts.** \\\n",
    "**Cash Flow Horizontal Analysis**\n",
    "```\n",
    "\n",
    "For the vertical analysis, students create one bar chart over at least three years for each of the following balance sheet categories: current assets, long-term assets, current liabilities, long-term liabilities (Figure 4, Panel C). \n",
    "\n",
    "```{figure} images/Revenue_Streams_Composition.jpg\n",
    ":scale: 150 %\n",
    ":alt: Revenue Streams Composition\n",
    "\n",
    "**Figure 4, Panel C: Sample Vertical Analyses Charts.** \\\n",
    "**Revenue Streams Composition**\n",
    "```\n",
    "\n",
    "For income statement items, students group the different streams of revenue, and group the different categories of operating expenses (Figure 4, Panel D). \n",
    "\n",
    "```{figure} images/Vertical_Analysis_of_Operation_Expenses.jpg\n",
    ":scale: 150 %\n",
    ":alt: Vertical Analysis of Operation Expenses\n",
    "\n",
    "**Figure 4, Panel D: Sample Vertical Analyses Charts.** \\\n",
    "**Vertical Analysis of Operation Expenses**\n",
    "```\n",
    "\n",
    "For cash flow items, students separate cash flows from/used by operating, investing, and financing activities. Students should not try to chart each line item within the operating, investing, and financing activities (that level of analysis is outside the scope of this exercise) (Figure 4, Panel E). \n",
    "\n",
    "```{figure} images/Cash_Flow_Vertical_Analysis.jpg\n",
    ":scale: 150 %\n",
    ":alt: Cash Flow Vertical Analysis\n",
    "\n",
    "**Figure 4, Panel E: Sample Vertical Analyses Charts.** \\\n",
    "**Cash Flow Vertical Analysis**\n",
    "```\n",
    "\n",
    "For ratio analysis, group ratios by liquidity, solvency, and profitability ratios and create two-dimensional line charts over two or three years for each category, depending on whether the ratio covers a two or three-year period (Figure 4, Panels F-G). The presentation must be legible and clear to other users of the information they produce. Placing more than three or four ratios on one chart over at least three years may look busy. Students should make sure they space lines adequately for easy reading. If ratios are too busy looking, the group members who are peer reviewing the work before submission should inform other students so they can redo them before submission.\n",
    "\n",
    "Students must ensure that all graphs have meaningful labels, including years and appropriately spaced number increments on the y-axis to avoid bunching of lines. Below are some samples of visual representations comparing bar charts and two-dimensional charts over a three-year period.\n",
    "\n",
    "The following figure lists all the charts students are required to create to achieve a comprehensive visual representation of Starbucks's financial data. \n",
    "\n",
    "```{figure} images/Sample_Charts_to_Create.jpg\n",
    ":scale: 50 %\n",
    ":alt: Sample Charts to Create\n",
    "\n",
    "**Figure 4, Panel E: Sample Vertical Analyses Charts.** \\\n",
    "**Sample Charts to Create**\n",
    "```\n",
    "\n",
    "Video examples of charting in Excel:\n",
    "\n",
    "If students do not know how to work with charts in Excel, below are some tutorials found on YouTube to create and edit charts. A more comprehensive search on YouTube will yield dozens of videos that can help explain how to create charts.  \n",
    "\n",
    "[Excel for Mac Intermediate Skills, Tips, and Tricks](https://www.youtube.com/watch?v=Z9sKEjHaIm4)\n",
    "\n",
    "[Excel Charts and Graphs Tutorial](https://www.youtube.com/watch?v=eHtZrIb0oWY)\n",
    "\n",
    "[Excel Quick and Simple Charts Tutorial](https://www.youtube.com/watch?v=TfkNkrKMF5c)"
   ]
  }
 ],
 "metadata": {
  "jupytext": {
   "formats": "md:myst",
   "text_representation": {
    "extension": ".md",
    "format_name": "myst"
   }
  },
  "kernelspec": {
   "display_name": "Python 3",
   "language": "python",
   "name": "python3"
  },
  "language_info": {
   "codemirror_mode": {
    "name": "ipython",
    "version": 3
   },
   "file_extension": ".py",
   "mimetype": "text/x-python",
   "name": "python",
   "nbconvert_exporter": "python",
   "pygments_lexer": "ipython3",
   "version": "3.11.7"
  },
  "source_map": [
   11
  ]
 },
 "nbformat": 4,
 "nbformat_minor": 5
}