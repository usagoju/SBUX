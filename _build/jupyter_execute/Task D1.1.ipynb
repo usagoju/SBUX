{
 "cells": [
  {
   "cell_type": "markdown",
   "id": "e7f1dac3",
   "metadata": {},
   "source": [
    "# Task D1.1\n",
    "\n",
    "## Collaborate with other students in groups\n",
    "\n",
    "As stated in the overview of the term project, the accounting field increasingly requires collaborative work. Yet, the performance of employees of an accounting firm still needs to be individually assessed. This deliverable introduces students to the collaborative work environment. The first important step is to elect a leader. It does not matter who leads first. There is no special skill set required. The idea is to practice being a leader in a business group. Everyone has different experiences leading some type of group effort, and some will be better at it than others. Therefore, everyone in a group should collaborate and help the leader lead. The group leader’s role is to centralize group communications (share contact details, establish communication methods (Zoom, conference calls, etc.), schedule meetings) and see that each student receives a peer review of their work before submitting it to the instructor.  \n",
    "\n",
    "The assigned leader in each group is required to submit a weekly one-paragraph summary of the communication setup and group interactions and raise any concerns students may have."
   ]
  }
 ],
 "metadata": {
  "jupytext": {
   "formats": "md:myst",
   "text_representation": {
    "extension": ".md",
    "format_name": "myst"
   }
  },
  "kernelspec": {
   "display_name": "Python 3",
   "language": "python",
   "name": "python3"
  },
  "language_info": {
   "codemirror_mode": {
    "name": "ipython",
    "version": 3
   },
   "file_extension": ".py",
   "mimetype": "text/x-python",
   "name": "python",
   "nbconvert_exporter": "python",
   "pygments_lexer": "ipython3",
   "version": "3.11.7"
  },
  "source_map": [
   11
  ]
 },
 "nbformat": 4,
 "nbformat_minor": 5
}