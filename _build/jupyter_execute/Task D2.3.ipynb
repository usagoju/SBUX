{
 "cells": [
  {
   "cell_type": "markdown",
   "id": "8afd90a6",
   "metadata": {},
   "source": [
    "# Task D2.3\n",
    "\n",
    "## Submit individual answers as Word documents to the learning management system.\n",
    "\n",
    "Although this deliverable relies on a collaborative effort like deliverable one, each group member must create their own Word document and have other group members peer review it before submitting it to the instructor. The group leader for deliverable two is responsible for ensuring that each group member is peer-reviewed by at least one other member of the group. Students should continue to be aware that other members' work cannot simply be copied without creating a significant portion of the work product independently or without acknowledging their sources. Students should be aware that instructors use sophisticated software to detect plagiarism. Once students have completed the essay questions, they upload their Word file into the learning management system."
   ]
  }
 ],
 "metadata": {
  "jupytext": {
   "formats": "md:myst",
   "text_representation": {
    "extension": ".md",
    "format_name": "myst"
   }
  },
  "kernelspec": {
   "display_name": "Python 3",
   "language": "python",
   "name": "python3"
  },
  "language_info": {
   "codemirror_mode": {
    "name": "ipython",
    "version": 3
   },
   "file_extension": ".py",
   "mimetype": "text/x-python",
   "name": "python",
   "nbconvert_exporter": "python",
   "pygments_lexer": "ipython3",
   "version": "3.11.7"
  },
  "source_map": [
   11
  ]
 },
 "nbformat": 4,
 "nbformat_minor": 5
}