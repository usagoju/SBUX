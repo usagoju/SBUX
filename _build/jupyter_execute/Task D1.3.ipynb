{
 "cells": [
  {
   "cell_type": "markdown",
   "id": "813957a7",
   "metadata": {},
   "source": [
    "# Task D1.3\n",
    "\n",
    "## Conduct a limited financial statement analysis employing horizontal, vertical and ratio analysis \n",
    "\n",
    "Horizontal, vertical and ratio analysis will allow students to practice basic financial statement analysis. Fundamental accounting textbooks demonstrate horizontal, vertical and ratio analysis of financial statements. In addition to textbook examples, YouTube has many demonstrations on how to set up horizontal and vertical analysis.\n",
    "\n",
    "Video examples of Horizontal and Vertical Analysis in Excel:\n",
    "\n",
    "[Vertical Analysis of an Income Statement in Excel by Chris Menard](https://www.youtube.com/watch?v=BmpbEVS4cP0)\n",
    "\n",
    "[Horizontal analysis of financial statements](https://www.youtube.com/watch?v=8hLjVoKbKZ8)\n",
    "\n",
    "[Excel: Liquidity Ratios - Current Ratio, Quick Ratio, & Cash Ratio](https://www.youtube.com/watch?v=c-YnvjUIwq4)\n",
    "\n",
    "The SBUX Project requires students to add additional columns and rows in their Excel worksheets to accommodate horizontal and vertical analyses for all possible accounts in the IS and BS. For the CF Statements, we limited the analysis to the line items Net cash provided/used by operating activities, investing activities and financing activities to remain at a more basic level analysis.\n",
    "\n",
    "Upon completing the horizontal and vertical analysis, students use the data on their spreadsheets to independently calculate all the ratios for each year from Figure 3, Required Common Ratios to Calculate. These common ratios are found in most accounting textbooks. Ratio analysis looks at the relationships of the different parts of financial statements. Combining horizontal and vertical analyses with ratio analysis provides powerful analytical tools to expose areas of risk for decision-makers. Students calculate these ratios over at least two to three years (depending on the ratio) to expose more meaningful patterns beyond horizontal and vertical analyses and use the data to create charts to visualize the patterns alongside other ratios. Students are encouraged to use other ratios that they deem may be useful to their analyses.\n",
    "\n",
    "```{figure} images/Required_Ratios_to_Calculate.jpg\n",
    ":scale: 30 %\n",
    ":alt: Required Common Ratios to Calculate\n",
    "\n",
    "**Figure 3, Required Common Ratios to Calculate.** \n",
    "```\n",
    "\n",
    "Performing horizontal, vertical, and ratio analyses provides an opportunity to achieve more Excel skills. As rows and columns are inserted, students demonstrate their ability to use technological tools to organize, structure, and present complex financial data for analysis through the creation of proper headers and footers, the use of color-coordinated schemes, developing formulas for subtotal and total data, and calculating ratios."
   ]
  }
 ],
 "metadata": {
  "jupytext": {
   "formats": "md:myst",
   "text_representation": {
    "extension": ".md",
    "format_name": "myst"
   }
  },
  "kernelspec": {
   "display_name": "Python 3",
   "language": "python",
   "name": "python3"
  },
  "language_info": {
   "codemirror_mode": {
    "name": "ipython",
    "version": 3
   },
   "file_extension": ".py",
   "mimetype": "text/x-python",
   "name": "python",
   "nbconvert_exporter": "python",
   "pygments_lexer": "ipython3",
   "version": "3.11.7"
  },
  "source_map": [
   11
  ]
 },
 "nbformat": 4,
 "nbformat_minor": 5
}